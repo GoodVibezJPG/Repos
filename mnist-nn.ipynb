{
 "cells": [
  {
   "cell_type": "code",
   "execution_count": 1,
   "id": "d495a271",
   "metadata": {
    "_cell_guid": "b1076dfc-b9ad-4769-8c92-a6c4dae69d19",
    "_uuid": "8f2839f25d086af736a60e9eeb907d3b93b6e0e5",
    "execution": {
     "iopub.execute_input": "2023-03-29T05:26:06.035960Z",
     "iopub.status.busy": "2023-03-29T05:26:06.035502Z",
     "iopub.status.idle": "2023-03-29T05:26:06.050415Z",
     "shell.execute_reply": "2023-03-29T05:26:06.049560Z"
    },
    "papermill": {
     "duration": 0.024218,
     "end_time": "2023-03-29T05:26:06.052977",
     "exception": false,
     "start_time": "2023-03-29T05:26:06.028759",
     "status": "completed"
    },
    "tags": []
   },
   "outputs": [
    {
     "name": "stdout",
     "output_type": "stream",
     "text": [
      "/kaggle/input/digit-recognizer/sample_submission.csv\n",
      "/kaggle/input/digit-recognizer/train.csv\n",
      "/kaggle/input/digit-recognizer/test.csv\n"
     ]
    }
   ],
   "source": [
    "\n",
    "\n",
    "import numpy as np # linear algebra\n",
    "import pandas as pd # data processing, CSV file I/O (e.g. pd.read_csv)\n",
    "from matplotlib import pyplot as plt\n",
    "\n",
    "\n",
    "import os\n",
    "for dirname, _, filenames in os.walk('/kaggle/input'):\n",
    "    for filename in filenames:\n",
    "        print(os.path.join(dirname, filename))\n",
    "\n"
   ]
  },
  {
   "cell_type": "code",
   "execution_count": 2,
   "id": "e6035bca",
   "metadata": {
    "execution": {
     "iopub.execute_input": "2023-03-29T05:26:06.063153Z",
     "iopub.status.busy": "2023-03-29T05:26:06.062372Z",
     "iopub.status.idle": "2023-03-29T05:26:10.296935Z",
     "shell.execute_reply": "2023-03-29T05:26:10.295447Z"
    },
    "papermill": {
     "duration": 4.242836,
     "end_time": "2023-03-29T05:26:10.300206",
     "exception": false,
     "start_time": "2023-03-29T05:26:06.057370",
     "status": "completed"
    },
    "tags": []
   },
   "outputs": [],
   "source": [
    "data = pd.read_csv('../input/digit-recognizer/train.csv')"
   ]
  },
  {
   "cell_type": "code",
   "execution_count": 3,
   "id": "6f31f479",
   "metadata": {
    "execution": {
     "iopub.execute_input": "2023-03-29T05:26:10.309774Z",
     "iopub.status.busy": "2023-03-29T05:26:10.308928Z",
     "iopub.status.idle": "2023-03-29T05:26:11.277210Z",
     "shell.execute_reply": "2023-03-29T05:26:11.275849Z"
    },
    "papermill": {
     "duration": 0.976703,
     "end_time": "2023-03-29T05:26:11.280585",
     "exception": false,
     "start_time": "2023-03-29T05:26:10.303882",
     "status": "completed"
    },
    "tags": []
   },
   "outputs": [],
   "source": [
    "#split the data into training and testing sets\n",
    "\n",
    "data = np.array(data)\n",
    "\n",
    "\n",
    "[m, n] = data.shape\n",
    "#shuffle the data\n",
    "np.random.shuffle(data)\n",
    "ratio = 0.8\n",
    "num_train = int(len(data)*ratio)\n",
    "                \n",
    "#training set\n",
    "data_train = data[:num_train].T\n",
    "Y_train = data_train[0]\n",
    "X_train = data_train[1:n]\n",
    "X_train = X_train / 255.0\n",
    "\n",
    "# testing set\n",
    "data_test = data[num_train:].T\n",
    "Y_test = data_test[0]\n",
    "X_test = data_test[1:n]\n",
    "X_test = X_test / 255.0\n",
    "\n",
    "\n"
   ]
  },
  {
   "cell_type": "code",
   "execution_count": 4,
   "id": "6b8bc969",
   "metadata": {
    "execution": {
     "iopub.execute_input": "2023-03-29T05:26:11.291280Z",
     "iopub.status.busy": "2023-03-29T05:26:11.290808Z",
     "iopub.status.idle": "2023-03-29T05:26:11.298308Z",
     "shell.execute_reply": "2023-03-29T05:26:11.296837Z"
    },
    "papermill": {
     "duration": 0.016963,
     "end_time": "2023-03-29T05:26:11.301619",
     "exception": false,
     "start_time": "2023-03-29T05:26:11.284656",
     "status": "completed"
    },
    "tags": []
   },
   "outputs": [
    {
     "name": "stdout",
     "output_type": "stream",
     "text": [
      "(33600,)\n",
      "(784, 33600)\n",
      "(8400,)\n",
      "(784, 8400)\n",
      "(785, 33600)\n",
      "(785, 8400)\n"
     ]
    }
   ],
   "source": [
    "print(Y_train.shape)\n",
    "print(X_train.shape)\n",
    "\n",
    "print(Y_test.shape)\n",
    "print(X_test.shape)\n",
    "\n",
    "print(data_train.shape)\n",
    "print(data_test.shape)"
   ]
  },
  {
   "cell_type": "code",
   "execution_count": 5,
   "id": "f33efc38",
   "metadata": {
    "execution": {
     "iopub.execute_input": "2023-03-29T05:26:11.311835Z",
     "iopub.status.busy": "2023-03-29T05:26:11.310409Z",
     "iopub.status.idle": "2023-03-29T05:26:11.325598Z",
     "shell.execute_reply": "2023-03-29T05:26:11.324053Z"
    },
    "papermill": {
     "duration": 0.023303,
     "end_time": "2023-03-29T05:26:11.328602",
     "exception": false,
     "start_time": "2023-03-29T05:26:11.305299",
     "status": "completed"
    },
    "tags": []
   },
   "outputs": [],
   "source": [
    "# define NN structure\n",
    "\n",
    "def init_params():\n",
    "    W1 = np.random.rand(10,784) - 0.5\n",
    "    b1 = np.random.rand(10,1) - 0.5\n",
    "    W2 = np.random.rand(10,10) - 0.5\n",
    "    b2 = np.random.rand(10,1) - 0.5\n",
    "    return W1, b1 , W2, b2\n",
    "\n",
    "#define ReLU (activiation function)\n",
    "def ReLU(Z):\n",
    "    return np.maximum(Z,0)\n",
    "\n",
    "#define softmax (activiation function)\n",
    "def softmax(Z):\n",
    "    return np.exp(Z) / sum(np.exp(Z))\n",
    "\n",
    "#predicting the the label should be within the NN\n",
    "def foward_prop(W1,b1,W2,b2,X):\n",
    "    Z1 = W1.dot(X) + b1\n",
    "    #apply the activiation function(ReLU)\n",
    "    A1 = ReLU(Z1)\n",
    "    Z2 = W2.dot(A1) + b2\n",
    "    A2 = softmax(Z2)\n",
    "    return Z1, A1, Z2 , A2\n",
    "\n",
    "#converting labelled data (Y) into the same shape as our NN output\n",
    "def one_hot(Y):\n",
    "    one_hot_Y = np.zeros((Y.size, Y.max() + 1))\n",
    "    one_hot_Y[np.arange(Y.size), Y] = 1\n",
    "    one_hot_y = one_hot_Y.T\n",
    "    return one_hot_Y\n",
    "\n",
    "def ReLU_deriv(Z):\n",
    "    return Z > 0\n",
    "\n",
    "#back prop\n",
    "def back_prop(Z1, A1, Z2, A2, W1, W2, X, Y):\n",
    "    one_hot_Y = one_hot(Y)\n",
    "    #last layer errors:\n",
    "    dZ2 = A2 - one_hot_Y.T\n",
    "    dW2 = 1 / m *  dZ2.dot(A1.T)\n",
    "    db2 = 1 / m * np.sum(dZ2)\n",
    "    #first layer errors:\n",
    "    dZ1 = W2.dot(dZ2) * ReLU_deriv(Z1) #undoing ReLU from foward prop\n",
    "    dW1 = 1 / m *  dZ1.dot(X.T)\n",
    "    db1 = 1 / m * np.sum(dZ1)\n",
    "    return dW1, db1 ,dW2, db2\n",
    "\n",
    "#alpha = -> step size\n",
    "#using back prop errors to calculate our weights and biases (final step in graient descent)\n",
    "def update_params(W1, b1 , W2, b2, dW1, db1, dW2, db2, alpha):\n",
    "    W1 = W1 - alpha * dW1\n",
    "    b1 = b1 - alpha * db1\n",
    "    W2 = W2 - alpha * dW2\n",
    "    b2 = b2 - alpha * db2\n",
    "    return W1, b1, W2, b2\n",
    "\n",
    "\n",
    "    \n",
    "    \n"
   ]
  },
  {
   "cell_type": "code",
   "execution_count": 6,
   "id": "cc545f20",
   "metadata": {
    "execution": {
     "iopub.execute_input": "2023-03-29T05:26:11.338361Z",
     "iopub.status.busy": "2023-03-29T05:26:11.337942Z",
     "iopub.status.idle": "2023-03-29T05:26:11.347663Z",
     "shell.execute_reply": "2023-03-29T05:26:11.346359Z"
    },
    "papermill": {
     "duration": 0.017601,
     "end_time": "2023-03-29T05:26:11.350059",
     "exception": false,
     "start_time": "2023-03-29T05:26:11.332458",
     "status": "completed"
    },
    "tags": []
   },
   "outputs": [],
   "source": [
    "# gradient descent and fun output freinds\n",
    "def get_predictions(A2):\n",
    "    return np.argmax(A2,0)\n",
    "\n",
    "def get_accuracy(predictions, Y):\n",
    "    print(predictions, Y)\n",
    "    return np.sum(predictions == Y / Y.size)\n",
    "\n",
    "def gradient_descent(X_train, Y_train, X_test, Y_test, alpha, iterations):\n",
    "    \n",
    "    \n",
    "    W1, b1, W2, b2 = init_params()\n",
    "    # training loop:\n",
    "    for i in range(iterations):\n",
    "        # send training set through NN (foward prop)\n",
    "        Z1, A1, Z2 , A2 = foward_prop(W1, b1, W2, b2, X_train)\n",
    "        #send training and testing set backwards through NN (back prop)\n",
    "        dW1, db1 ,dW2, db2 = back_prop(Z1, A1, Z2 , A2, W1, W2, X_train, Y_train)\n",
    "        #update weights and biases based on back prop errors\n",
    "        W1, b1, W2, b2 =  update_params(W1, b1 , W2, b2, dW1, db1, dW2, db2, alpha)\n",
    "        \n",
    "        if i % 10 == 0:\n",
    "            predictions = get_predictions(A2)\n",
    "            train_acc = get_accuracy(predictions, Y_train)\n",
    "            print(\"Iteration\", i)\n",
    "            print(train_acc)\n",
    "    return W1, b1, W2, b2 \n",
    "        \n",
    "        "
   ]
  },
  {
   "cell_type": "code",
   "execution_count": 7,
   "id": "01ba7ec3",
   "metadata": {
    "execution": {
     "iopub.execute_input": "2023-03-29T05:26:11.359913Z",
     "iopub.status.busy": "2023-03-29T05:26:11.359251Z",
     "iopub.status.idle": "2023-03-29T05:26:26.498781Z",
     "shell.execute_reply": "2023-03-29T05:26:26.497051Z"
    },
    "papermill": {
     "duration": 15.149587,
     "end_time": "2023-03-29T05:26:26.503464",
     "exception": false,
     "start_time": "2023-03-29T05:26:11.353877",
     "status": "completed"
    },
    "tags": []
   },
   "outputs": [
    {
     "name": "stdout",
     "output_type": "stream",
     "text": [
      "[0 0 0 ... 0 0 0] [3 6 3 ... 3 7 6]\n",
      "Iteration 0\n",
      "3184\n",
      "[5 3 0 ... 7 0 4] [3 6 3 ... 3 7 6]\n",
      "Iteration 10\n",
      "1602\n",
      "[0 3 0 ... 7 0 4] [3 6 3 ... 3 7 6]\n",
      "Iteration 20\n",
      "1591\n",
      "[0 3 0 ... 7 0 4] [3 6 3 ... 3 7 6]\n",
      "Iteration 30\n",
      "1645\n",
      "[0 3 0 ... 7 0 8] [3 6 3 ... 3 7 6]\n",
      "Iteration 40\n",
      "1732\n",
      "[0 3 0 ... 3 0 8] [3 6 3 ... 3 7 6]\n",
      "Iteration 50\n",
      "1891\n",
      "[0 3 0 ... 3 0 8] [3 6 3 ... 3 7 6]\n",
      "Iteration 60\n",
      "2092\n",
      "[0 3 0 ... 3 0 8] [3 6 3 ... 3 7 6]\n",
      "Iteration 70\n",
      "2270\n",
      "[0 3 0 ... 3 0 8] [3 6 3 ... 3 7 6]\n",
      "Iteration 80\n",
      "2430\n",
      "[0 3 0 ... 3 0 8] [3 6 3 ... 3 7 6]\n",
      "Iteration 90\n",
      "2563\n"
     ]
    }
   ],
   "source": [
    "W1, b1, W2, b2 = gradient_descent(X_train, Y_train, X_test, Y_test, 0.1, 100)"
   ]
  },
  {
   "cell_type": "code",
   "execution_count": 8,
   "id": "643f8ee4",
   "metadata": {
    "execution": {
     "iopub.execute_input": "2023-03-29T05:26:26.526542Z",
     "iopub.status.busy": "2023-03-29T05:26:26.525816Z",
     "iopub.status.idle": "2023-03-29T05:26:26.546128Z",
     "shell.execute_reply": "2023-03-29T05:26:26.544444Z"
    },
    "papermill": {
     "duration": 0.037783,
     "end_time": "2023-03-29T05:26:26.551430",
     "exception": false,
     "start_time": "2023-03-29T05:26:26.513647",
     "status": "completed"
    },
    "tags": []
   },
   "outputs": [],
   "source": [
    "#helper functions to visualize training examples\n",
    "\n",
    "def make_predictions(X,W1,b1,W2,b2):\n",
    "    _,_,_, A2 = foward_prop(W1,b1,W2,b2, X)\n",
    "    predictions = get_predictions(A2)\n",
    "    return predictions\n",
    "\n",
    "def test_predictions(index,W1,b1,W2,b2):\n",
    "    current_image = X_train[:, index, None]\n",
    "    prediction = make_predictions(X_train[:, index, None], W1, b1, W2,b2 )\n",
    "    label = Y_train[index]\n",
    "    print('Prediction:',prediction)\n",
    "    print('True Label:', label)\n",
    "    \n",
    "    #plotting the actual image for reference\n",
    "    current_image = current_image.reshape((28,28)) * 255\n",
    "    plt.gray()\n",
    "    plt.imshow(current_image,interpolation='nearest')\n",
    "    plt.show()\n",
    "    "
   ]
  },
  {
   "cell_type": "code",
   "execution_count": 9,
   "id": "97e9f4a0",
   "metadata": {
    "execution": {
     "iopub.execute_input": "2023-03-29T05:26:26.574427Z",
     "iopub.status.busy": "2023-03-29T05:26:26.573707Z",
     "iopub.status.idle": "2023-03-29T05:26:28.437128Z",
     "shell.execute_reply": "2023-03-29T05:26:28.435486Z"
    },
    "papermill": {
     "duration": 1.878591,
     "end_time": "2023-03-29T05:26:28.440571",
     "exception": false,
     "start_time": "2023-03-29T05:26:26.561980",
     "status": "completed"
    },
    "tags": []
   },
   "outputs": [
    {
     "name": "stdout",
     "output_type": "stream",
     "text": [
      "Prediction: [0]\n",
      "True Label: 3\n"
     ]
    },
    {
     "data": {
      "image/png": "[encoded data removed]",
      "text/plain": [
       "<Figure size 640x480 with 1 Axes>"
      ]
     },
     "metadata": {},
     "output_type": "display_data"
    },
    {
     "name": "stdout",
     "output_type": "stream",
     "text": [
      "Prediction: [3]\n",
      "True Label: 3\n"
     ]
    },
    {
     "data": {
      "image/png": "[encoded data removed]",
      "text/plain": [
       "<Figure size 640x480 with 1 Axes>"
      ]
     },
     "metadata": {},
     "output_type": "display_data"
    },
    {
     "name": "stdout",
     "output_type": "stream",
     "text": [
      "Prediction: [5]\n",
      "True Label: 5\n"
     ]
    },
    {
     "data": {
      "image/png": "[encoded data removed]",
      "text/plain": [
       "<Figure size 640x480 with 1 Axes>"
      ]
     },
     "metadata": {},
     "output_type": "display_data"
    },
    {
     "name": "stdout",
     "output_type": "stream",
     "text": [
      "Prediction: [4]\n",
      "True Label: 5\n"
     ]
    },
    {
     "data": {
      "image/png": "[encoded data removed]",
      "text/plain": [
       "<Figure size 640x480 with 1 Axes>"
      ]
     },
     "metadata": {},
     "output_type": "display_data"
    },
    {
     "name": "stdout",
     "output_type": "stream",
     "text": [
      "Prediction: [1]\n",
      "True Label: 1\n"
     ]
    },
    {
     "data": {
      "image/png": "[encoded data removed]",
      "text/plain": [
       "<Figure size 640x480 with 1 Axes>"
      ]
     },
     "metadata": {},
     "output_type": "display_data"
    },
    {
     "name": "stdout",
     "output_type": "stream",
     "text": [
      "Prediction: [1]\n",
      "True Label: 1\n"
     ]
    },
    {
     "data": {
      "image/png": "[encoded data removed]",
      "text/plain": [
       "<Figure size 640x480 with 1 Axes>"
      ]
     },
     "metadata": {},
     "output_type": "display_data"
    },
    {
     "name": "stdout",
     "output_type": "stream",
     "text": [
      "Prediction: [9]\n",
      "True Label: 9\n"
     ]
    },
    {
     "data": {
      "image/png": "[encoded data removed]",
      "text/plain": [
       "<Figure size 640x480 with 1 Axes>"
      ]
     },
     "metadata": {},
     "output_type": "display_data"
    },
    {
     "name": "stdout",
     "output_type": "stream",
     "text": [
      "Prediction: [8]\n",
      "True Label: 6\n"
     ]
    },
    {
     "data": {
      "image/png": "[encoded data removed]",
      "text/plain": [
       "<Figure size 640x480 with 1 Axes>"
      ]
     },
     "metadata": {},
     "output_type": "display_data"
    },
    {
     "name": "stdout",
     "output_type": "stream",
     "text": [
      "Prediction: [1]\n",
      "True Label: 1\n"
     ]
    },
    {
     "data": {
      "image/png": "[encoded data removed]",
      "text/plain": [
       "<Figure size 640x480 with 1 Axes>"
      ]
     },
     "metadata": {},
     "output_type": "display_data"
    },
    {
     "name": "stdout",
     "output_type": "stream",
     "text": [
      "Prediction: [3]\n",
      "True Label: 3\n"
     ]
    },
    {
     "data": {
      "image/png": "[encoded data removed]",
      "text/plain": [
       "<Figure size 640x480 with 1 Axes>"
      ]
     },
     "metadata": {},
     "output_type": "display_data"
    }
   ],
   "source": [
    "for i in range(0,100,10):\n",
    "    test_predictions(i,W1,b1,W2,b2)"
   ]
  }
 ],
 "metadata": {
  "kernelspec": {
   "display_name": "Python 3",
   "language": "python",
   "name": "python3"
  },
  "language_info": {
   "codemirror_mode": {
    "name": "ipython",
    "version": 3
   },
   "file_extension": ".py",
   "mimetype": "text/x-python",
   "name": "python",
   "nbconvert_exporter": "python",
   "pygments_lexer": "ipython3",
   "version": "3.7.12"
  },
  "papermill": {
   "default_parameters": {},
   "duration": 33.902031,
   "end_time": "2023-03-29T05:26:29.373258",
   "environment_variables": {},
   "exception": null,
   "input_path": "__notebook__.ipynb",
   "output_path": "__notebook__.ipynb",
   "parameters": {},
   "start_time": "2023-03-29T05:25:55.471227",
   "version": "2.4.0"
  }
 },
 "nbformat": 4,
 "nbformat_minor": 5
}
